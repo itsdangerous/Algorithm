{
 "cells": [
  {
   "cell_type": "markdown",
   "id": "4d49a472",
   "metadata": {},
   "source": [
    "[문제 바로가기(탐욕법2_조이스틱)](https://school.programmers.co.kr/learn/courses/30/lessons/42860)"
   ]
  },
  {
   "cell_type": "markdown",
   "id": "b8b67440",
   "metadata": {},
   "source": [
    "### 문제를 풀기 쉽게 배열을 다시 정의했다.\n",
    "- 체육복이 부족하면 -1, 있으면 0, 남으면 1로 n길이 만큼의 배열을 lost, reserve에 대해 각각 만들어주었고\n",
    "- 두 배열의 값을 더한 배열(arr)을 새롭게 만들었다.\n",
    "- 그래서 arr 배열을 순차탐색하면서 -1(체육복이 부족한 사람)이 탐색 된다면\n",
    "    - 만약 왼쪽 요소가 존재하고 그 요소가 1이면 [0,0]으로 변경\n",
    "    - 만약 오른쪽 ..(이하 동일)\n",
    "- 그렇게 해서 얻게 되는 배열은 각 인덱스(사람 번호)가 가진 체육복의 여분 개수임.\n",
    "- 따라서, 그 배열 요소의 값이 0(체육복 개수) 이상인 것들을 카운팅하여 반환."
   ]
  },
  {
   "cell_type": "code",
   "execution_count": null,
   "id": "bc492962",
   "metadata": {},
   "outputs": [],
   "source": []
  },
  {
   "cell_type": "code",
   "execution_count": null,
   "id": "9d17bee4",
   "metadata": {},
   "outputs": [],
   "source": []
  }
 ],
 "metadata": {
  "kernelspec": {
   "display_name": "Python 3.9.12 ('base')",
   "language": "python",
   "name": "python3"
  },
  "language_info": {
   "codemirror_mode": {
    "name": "ipython",
    "version": 3
   },
   "file_extension": ".py",
   "mimetype": "text/x-python",
   "name": "python",
   "nbconvert_exporter": "python",
   "pygments_lexer": "ipython3",
   "version": "3.9.12"
  },
  "vscode": {
   "interpreter": {
    "hash": "264f328787b37f16064491fd7146204bcd0255a73efd7eb6872c13ff28cded60"
   }
  }
 },
 "nbformat": 4,
 "nbformat_minor": 5
}
