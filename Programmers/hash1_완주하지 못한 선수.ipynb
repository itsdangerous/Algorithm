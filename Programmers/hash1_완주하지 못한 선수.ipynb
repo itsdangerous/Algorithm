{
 "cells": [
  {
   "cell_type": "markdown",
   "id": "4d49a472",
   "metadata": {},
   "source": [
    "[문제 바로가기(해시1_완주하지 못한 선수)](https://programmers.co.kr/learn/courses/30/lessons/42576)"
   ]
  },
  {
   "cell_type": "markdown",
   "id": "b8b67440",
   "metadata": {},
   "source": [
    "### 두 입력 배열을 정렬 해 주는 것이 Point였다.\n",
    "* 문제에서 주어진 핵심은 completion의 길이는 participant의 길이보다 1 작다는 것\n",
    "* 즉, 완주하지 못한 사람은 1명이란 뜻\n",
    "\n",
    " * 1. 배열을 정렬해주고 만약 completion을 다 돌때까지 모두 같다면, participant배열의 마지막 요소 반환\n",
    " * 2. 중간에 같지 않은 이름이 있다면, 그 요소가 완주하지 못한 사람이니까 반환."
   ]
  },
  {
   "cell_type": "code",
   "execution_count": 1,
   "id": "ae813c41",
   "metadata": {},
   "outputs": [
    {
     "data": {
      "text/plain": [
       "'mislav'"
      ]
     },
     "execution_count": 1,
     "metadata": {},
     "output_type": "execute_result"
    }
   ],
   "source": [
    "participant = [\"mislav\", \"stanko\", \"mislav\", \"ana\"]\n",
    "completion = [\"stanko\", \"ana\", \"mislav\"]\n",
    "\n",
    "def solution(participant, completion) :\n",
    "    \n",
    "    p = sorted(participant)\n",
    "    c = sorted(completion)\n",
    "    \n",
    "    for idx, value in enumerate(p) :\n",
    "        if idx >= len(p)-1 or p[idx] != c[idx] :\n",
    "            return value\n",
    "        else : # p[idx] == c[idx] :\n",
    "            continue\n",
    "   \n",
    "solution(participant, completion)\n",
    "    "
   ]
  },
  {
   "cell_type": "code",
   "execution_count": null,
   "id": "26e65c6e",
   "metadata": {},
   "outputs": [],
   "source": []
  }
 ],
 "metadata": {
  "kernelspec": {
   "display_name": "Python 3.9.12 ('base')",
   "language": "python",
   "name": "python3"
  },
  "language_info": {
   "codemirror_mode": {
    "name": "ipython",
    "version": 3
   },
   "file_extension": ".py",
   "mimetype": "text/x-python",
   "name": "python",
   "nbconvert_exporter": "python",
   "pygments_lexer": "ipython3",
   "version": "3.9.12"
  },
  "vscode": {
   "interpreter": {
    "hash": "264f328787b37f16064491fd7146204bcd0255a73efd7eb6872c13ff28cded60"
   }
  }
 },
 "nbformat": 4,
 "nbformat_minor": 5
}
