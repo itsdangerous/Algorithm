{
 "cells": [
  {
   "cell_type": "markdown",
   "metadata": {},
   "source": [
    "[문제 바로가기(해시3_위장)](https://programmers.co.kr/learn/courses/30/lessons/42578)"
   ]
  },
  {
   "cell_type": "markdown",
   "metadata": {},
   "source": [
    "### Tip : 같은 이름의 의상은 존재하지 않기때문에 입력 배열을 순차탐색하여 의상의 종류별로 개수를 count하여 dic에 저장\n",
    "\n",
    "* 하루에 최소 한 개의 의상은 입는다 -> 모든 경우의 수 - 모두 입지 않을 경우\n",
    "* 따라서, 의상의 개수에 각각 +1을 해준다음 Combination을 수행해주고 1을 빼줌.\n",
    "* 각 의상별로 1개씩 선택해야하기 때문에 굳이 조합을 사용하지 않고, value값으로만 계산"
   ]
  },
  {
   "cell_type": "code",
   "execution_count": 26,
   "metadata": {},
   "outputs": [
    {
     "data": {
      "text/plain": [
       "5"
      ]
     },
     "execution_count": 26,
     "metadata": {},
     "output_type": "execute_result"
    }
   ],
   "source": [
    "clothes = [[\"yellow_hat\", \"headgear\"], [\"blue_sunglasses\", \"eyewear\"], [\"green_turban\", \"headgear\"]]\n",
    "def solution(clothes) :\n",
    "        \n",
    "    dic = {}\n",
    "\n",
    "    for i in clothes :\n",
    "        if i[1] not in dic :\n",
    "            dic[i[1]] = 1\n",
    "        else : \n",
    "            dic[i[1]] += 1\n",
    "            \n",
    "    result = 1\n",
    "\n",
    "    for value in dic :\n",
    "        result *= (dic[value] + 1)\n",
    "        \n",
    "    return result-1"
   ]
  },
  {
   "cell_type": "code",
   "execution_count": null,
   "metadata": {},
   "outputs": [],
   "source": []
  }
 ],
 "metadata": {
  "kernelspec": {
   "display_name": "Python 3.8.9 64-bit",
   "language": "python",
   "name": "python3"
  },
  "language_info": {
   "codemirror_mode": {
    "name": "ipython",
    "version": 3
   },
   "file_extension": ".py",
   "mimetype": "text/x-python",
   "name": "python",
   "nbconvert_exporter": "python",
   "pygments_lexer": "ipython3",
   "version": "3.8.9"
  },
  "orig_nbformat": 4,
  "vscode": {
   "interpreter": {
    "hash": "31f2aee4e71d21fbe5cf8b01ff0e069b9275f58929596ceb00d14d90e3e16cd6"
   }
  }
 },
 "nbformat": 4,
 "nbformat_minor": 2
}
