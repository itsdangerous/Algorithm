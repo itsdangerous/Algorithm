{
 "cells": [
  {
   "cell_type": "markdown",
   "metadata": {},
   "source": [
    "[문제 바로가기(스택/큐2_프린터)](https://programmers.co.kr/learn/courses/30/lessons/42587#)"
   ]
  },
  {
   "cell_type": "markdown",
   "metadata": {},
   "source": [
    "### deqeue를 이용하여 구현하였다.\n",
    "- location값의 위치가 몇 번째에 프린트 되는지 구하는 간단한 문제였다.\n",
    "- 대기열의 맨 앞단이 프린트 된다면 location값을 -1 줄여주고,\n",
    "- 만약 location 위치가 맨 앞 즉 0일 때, 프린트 된다면 멈춰주고, 다시 뒤로 간다면 location을 deque의 맨 뒤로 위치시킨다.\n",
    "- 기본적으로 priorities가 가장 높은 것들은 프린트 되게 만들어야한다.\n",
    "\n",
    "- 프린트 될 때마다 counting 해주는 것 잊지 말고, 프린트가 되거나, roate 될 때마다 location의 위치를 바꾸어주는 것이 포인트라고 생각한다."
   ]
  },
  {
   "cell_type": "code",
   "execution_count": 30,
   "metadata": {},
   "outputs": [],
   "source": [
    "from collections import deque\n",
    "\n",
    "priorities = [1, 1, 9, 1, 1, 1]\n",
    "location = 0\n",
    "\n",
    "def solution(priorities, location) :\n",
    "\n",
    "    priorities = deque(priorities)\n",
    "\n",
    "    cnt = 0\n",
    "\n",
    "    while 1 :\n",
    "        \n",
    "        if location == 0 and priorities[0] == max(priorities):\n",
    "            cnt += 1\n",
    "            break\n",
    "        \n",
    "        elif priorities[0] >= max(priorities) :\n",
    "            priorities.popleft()\n",
    "            cnt += 1\n",
    "            \n",
    "            if location >= 1 :\n",
    "                location -= 1\n",
    "            else : location = len(priorities) - 1\n",
    "            \n",
    "        else :\n",
    "            priorities.rotate(-1)\n",
    "            if location >= 1 :\n",
    "                location -= 1\n",
    "            else : location = len(priorities) - 1\n",
    "    return cnt"
   ]
  }
 ],
 "metadata": {
  "kernelspec": {
   "display_name": "Python 3.9.12 ('base')",
   "language": "python",
   "name": "python3"
  },
  "language_info": {
   "codemirror_mode": {
    "name": "ipython",
    "version": 3
   },
   "file_extension": ".py",
   "mimetype": "text/x-python",
   "name": "python",
   "nbconvert_exporter": "python",
   "pygments_lexer": "ipython3",
   "version": "3.9.12"
  },
  "orig_nbformat": 4,
  "vscode": {
   "interpreter": {
    "hash": "264f328787b37f16064491fd7146204bcd0255a73efd7eb6872c13ff28cded60"
   }
  }
 },
 "nbformat": 4,
 "nbformat_minor": 2
}
