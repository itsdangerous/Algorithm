{
 "cells": [
  {
   "cell_type": "markdown",
   "id": "4d49a472",
   "metadata": {},
   "source": [
    "[문제 바로가기(완전탐색3_카펫)](https://school.programmers.co.kr/learn/courses/30/lessons/42842)"
   ]
  },
  {
   "cell_type": "markdown",
   "id": "b8b67440",
   "metadata": {},
   "source": [
    "### itertools의 permutations (순열)을 이용하여 문제를 품\n",
    "- 1~ (입력배열의 길이) 만큼 조합으로 가능한 모든 조합을 중복제거하여 리스트로 저장\n",
    "- 리스트에서 소수만 판별"
   ]
  },
  {
   "cell_type": "code",
   "execution_count": 32,
   "metadata": {},
   "outputs": [],
   "source": [
    "brown = 24\n",
    "yellow = 24\n",
    "\n",
    "for i in range(len(yellow)) :\n",
    "    yellow - "
   ]
  }
 ],
 "metadata": {
  "kernelspec": {
   "display_name": "Python 3.8.9 64-bit",
   "language": "python",
   "name": "python3"
  },
  "language_info": {
   "codemirror_mode": {
    "name": "ipython",
    "version": 3
   },
   "file_extension": ".py",
   "mimetype": "text/x-python",
   "name": "python",
   "nbconvert_exporter": "python",
   "pygments_lexer": "ipython3",
   "version": "3.8.9"
  },
  "orig_nbformat": 4,
  "vscode": {
   "interpreter": {
    "hash": "31f2aee4e71d21fbe5cf8b01ff0e069b9275f58929596ceb00d14d90e3e16cd6"
   }
  }
 },
 "nbformat": 4,
 "nbformat_minor": 2
}
