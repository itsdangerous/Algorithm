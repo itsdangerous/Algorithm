{
 "cells": [
  {
   "cell_type": "markdown",
   "id": "4d49a472",
   "metadata": {},
   "source": [
    "[문제 바로가기(완전탐색3_카펫)](https://school.programmers.co.kr/learn/courses/30/lessons/42842)"
   ]
  },
  {
   "cell_type": "markdown",
   "id": "b8b67440",
   "metadata": {},
   "source": [
    "### yellow와 brown의 관계식을 풀고 약수를 구하는 문제\n",
    "- 첫 번째 for문은 yellow와 나눠 떨어지는지를 구함(가로>세로이기때문에 하향식)\n",
    "\n",
    "- 만약 나눠 떨어진다면 약수이기 때문에, 2번째 for문을 진행\n",
    "\n",
    "- 곱해서 yellow가 되는 값을 찾아 yellow의 가로*세로 쌍을 구함\n",
    "\n",
    "- brown의 개수는 {(yellow_가로)+2} * {(yellow_세로)+1} - yellow 임( 타일의 개수를 세는 것이기 때문에 세로는 -1을 해주어야 하기때문)\n",
    "\n",
    "- 이 식을 이용해 yellow의 가로*세로 쌍을 구하면 답."
   ]
  },
  {
   "cell_type": "code",
   "execution_count": 40,
   "metadata": {},
   "outputs": [],
   "source": [
    "brown = 8\n",
    "yellow = 1\n",
    "def solution(brown, yellow) :\n",
    "    \n",
    "    for i in range(yellow, 0, -1) :\n",
    "        if yellow % i == 0 :\n",
    "            for j in range(1, i+1) :\n",
    "                if i * j == yellow :\n",
    "                    if (i+2) * (j+2) - yellow == brown :\n",
    "                        return [i+2,j+2]\n",
    "                    else :\n",
    "                        break\n",
    "        \n"
   ]
  }
 ],
 "metadata": {
  "kernelspec": {
   "display_name": "Python 3.8.9 64-bit",
   "language": "python",
   "name": "python3"
  },
  "language_info": {
   "codemirror_mode": {
    "name": "ipython",
    "version": 3
   },
   "file_extension": ".py",
   "mimetype": "text/x-python",
   "name": "python",
   "nbconvert_exporter": "python",
   "pygments_lexer": "ipython3",
   "version": "3.8.9"
  },
  "orig_nbformat": 4,
  "vscode": {
   "interpreter": {
    "hash": "31f2aee4e71d21fbe5cf8b01ff0e069b9275f58929596ceb00d14d90e3e16cd6"
   }
  }
 },
 "nbformat": 4,
 "nbformat_minor": 2
}
