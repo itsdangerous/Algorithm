{
 "cells": [
  {
   "cell_type": "markdown",
   "metadata": {},
   "source": [
    "### 입력 배열을 정렬해주는 것이 Point\n",
    "* 한 번호가 다른 번호의 접두어인 경우 False를 return 하는 것이므로\n",
    "* 입력 배열을 sort해준 후 배열을 순차적으로 탐색한다\n",
    "* 해당 idx 요소를 [idx+1]의 요소의 slicing한 부분을 비교함."
   ]
  },
  {
   "cell_type": "code",
   "execution_count": 37,
   "metadata": {},
   "outputs": [
    {
     "data": {
      "text/plain": [
       "False"
      ]
     },
     "execution_count": 37,
     "metadata": {},
     "output_type": "execute_result"
    }
   ],
   "source": [
    "phone_book = [\"119\", \"97674223\", \"1195524421\"]\n",
    "\n",
    "# phone_book = [\"123\",\"456\",\"789\"]\n",
    "\n",
    "# phone_book = [\"12\",\"123\",\"1235\",\"567\",\"88\"]\n",
    "def solution(phone_book) :\n",
    "\n",
    "    phone = sorted(phone_book)\n",
    "    \n",
    "    for idx, value in enumerate(phone) :\n",
    "        \n",
    "        if idx == len(phone)-1 :\n",
    "            return True\n",
    "        elif value == phone[idx+1][:len(value)] :\n",
    "            if phone[idx+1][:text_length] == value :\n",
    "                return False\n",
    "            else :\n",
    "                continue\n",
    "        else :\n",
    "            continue\n",
    "solution(phone_book)\n",
    "        "
   ]
  },
  {
   "cell_type": "code",
   "execution_count": null,
   "metadata": {},
   "outputs": [],
   "source": []
  }
 ],
 "metadata": {
  "kernelspec": {
   "display_name": "Python 3.9.12 ('base')",
   "language": "python",
   "name": "python3"
  },
  "language_info": {
   "codemirror_mode": {
    "name": "ipython",
    "version": 3
   },
   "file_extension": ".py",
   "mimetype": "text/x-python",
   "name": "python",
   "nbconvert_exporter": "python",
   "pygments_lexer": "ipython3",
   "version": "3.9.12"
  },
  "orig_nbformat": 4,
  "vscode": {
   "interpreter": {
    "hash": "264f328787b37f16064491fd7146204bcd0255a73efd7eb6872c13ff28cded60"
   }
  }
 },
 "nbformat": 4,
 "nbformat_minor": 2
}
