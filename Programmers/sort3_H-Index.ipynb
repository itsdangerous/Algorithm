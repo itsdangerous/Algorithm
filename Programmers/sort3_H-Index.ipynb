{
 "cells": [
  {
   "cell_type": "markdown",
   "metadata": {},
   "source": [
    "[문제 바로가기(정렬3_H-Index](https://programmers.co.kr/learn/courses/30/lessons/42747)"
   ]
  },
  {
   "cell_type": "code",
   "execution_count": 2,
   "metadata": {},
   "outputs": [],
   "source": [
    "def solution(citations) :\n",
    "\n",
    "    citations.sort(reverse = True)\n",
    "    for i in range(len(citations)) :\n",
    "        if citations[i] == 1 :\n",
    "            return 1\n",
    "\n",
    "        elif i+1 >= citations[i] :\n",
    "            if i+1 == citations[i] :\n",
    "                return i+1\n",
    "            elif i+1 > citations[i] :\n",
    "                return i\n",
    "    return len(citations)"
   ]
  },
  {
   "cell_type": "code",
   "execution_count": null,
   "metadata": {},
   "outputs": [],
   "source": []
  }
 ],
 "metadata": {
  "kernelspec": {
   "display_name": "Python 3.8.9 64-bit",
   "language": "python",
   "name": "python3"
  },
  "language_info": {
   "codemirror_mode": {
    "name": "ipython",
    "version": 3
   },
   "file_extension": ".py",
   "mimetype": "text/x-python",
   "name": "python",
   "nbconvert_exporter": "python",
   "pygments_lexer": "ipython3",
   "version": "3.8.9"
  },
  "orig_nbformat": 4,
  "vscode": {
   "interpreter": {
    "hash": "31f2aee4e71d21fbe5cf8b01ff0e069b9275f58929596ceb00d14d90e3e16cd6"
   }
  }
 },
 "nbformat": 4,
 "nbformat_minor": 2
}
