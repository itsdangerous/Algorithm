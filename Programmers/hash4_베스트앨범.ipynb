{
 "cells": [
  {
   "cell_type": "markdown",
   "metadata": {},
   "source": [
    "[문제 바로가기(해시4_베스트앨범)](https://programmers.co.kr/learn/courses/30/lessons/42579)"
   ]
  },
  {
   "cell_type": "markdown",
   "metadata": {},
   "source": [
    "### dict 자료형에 정보를 저장해주는 방식으로 code를 짬.\n",
    "* 1. 장르와 plays의 값을 리스트형식로 사전에 추가\n",
    "* 2. plays값의 합을 리스트의 맨 뒤에 추가해주고, 그 값을 기준으로 사전을 정렬\n",
    "* 3. genres의 index값을 찾기 위해 23번 for문 작성\n",
    "* 4. 28번 for문의 의미는 index값을 찾기 위해 순차탐색을 하는데, 동일한 장르가 존재한다면 index값이 가장 앞에 있는 요소의 위치를 반환하기 때문에 0으로 변경해줌\n",
    "\n",
    "    ##### 이 문제의 테스트 케이스 2, 15는 동일한 장르에 plays가 동일하다면, 더 낮은 index를 반환해야한다."
   ]
  },
  {
   "cell_type": "code",
   "execution_count": 296,
   "metadata": {},
   "outputs": [],
   "source": [
    "genres = [\"classic\", \"pop\", \"classic\", \"classic\"]\n",
    "plays = [500,300,500,400]"
   ]
  },
  {
   "cell_type": "code",
   "execution_count": 297,
   "metadata": {},
   "outputs": [],
   "source": [
    "def solution(genres, plays) :\n",
    "   \n",
    "    dic = {}\n",
    "    for i in range(len(genres)) :\n",
    "        if genres[i] not in dic :\n",
    "            dic[genres[i]] = []\n",
    "        dic[genres[i]].append(plays[i])\n",
    "    print(dic)\n",
    "    \n",
    "    for key, value in dic.items() :\n",
    "        dic[key] = sorted(value, reverse = True)\n",
    "        dic[key].append(sum(value))\n",
    "    dic = dict(sorted(dic.items(), key = lambda x : -x[1][-1]))\n",
    "    print(dic)\n",
    "    \n",
    "    result = []\n",
    "    for key, value in dic.items() :\n",
    "        if len(value) == 2 :\n",
    "            result.append(plays.index(value[0]))\n",
    "        \n",
    "        else :\n",
    "            for i in range(2) :\n",
    "                for j in range(len(plays)) :\n",
    "                    if genres[j] == key and plays[j] == value[i] :\n",
    "                        result.append(j)\n",
    "                        plays[j] = 0\n",
    "                        break        \n",
    "        for i in range(len(plays)) :\n",
    "            if genres[i] == key :\n",
    "                plays[i] = 0\n",
    "    return result"
   ]
  }
 ],
 "metadata": {
  "kernelspec": {
   "display_name": "Python 3.9.12 ('base')",
   "language": "python",
   "name": "python3"
  },
  "language_info": {
   "codemirror_mode": {
    "name": "ipython",
    "version": 3
   },
   "file_extension": ".py",
   "mimetype": "text/x-python",
   "name": "python",
   "nbconvert_exporter": "python",
   "pygments_lexer": "ipython3",
   "version": "3.9.12"
  },
  "orig_nbformat": 4,
  "vscode": {
   "interpreter": {
    "hash": "264f328787b37f16064491fd7146204bcd0255a73efd7eb6872c13ff28cded60"
   }
  }
 },
 "nbformat": 4,
 "nbformat_minor": 2
}
