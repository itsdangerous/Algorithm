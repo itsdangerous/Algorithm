{
 "cells": [
  {
   "cell_type": "markdown",
   "id": "4d49a472",
   "metadata": {
    "pycharm": {
     "name": "#%% md\n"
    }
   },
   "source": [
    "[문제 바로가기(힙1_더 맵게)](https://school.programmers.co.kr/learn/courses/30/lessons/42626)"
   ]
  },
  {
   "cell_type": "markdown",
   "id": "b8b67440",
   "metadata": {
    "pycharm": {
     "name": "#%% md\n"
    }
   },
   "source": [
    "### heapq 모듈을 이용하여 해결했다.\n",
    "- heapq 모듈을 쓴 이유 : deque나 list를 사용하니까 while문 안에 sort를 해주면서 시간 복잡도가 O(N^2)이 되면서 효율성에서 탈락함."
   ]
  },
  {
   "cell_type": "code",
   "execution_count": 121,
   "metadata": {
    "pycharm": {
     "name": "#%%\n"
    }
   },
   "outputs": [
    {
     "name": "stdout",
     "output_type": "stream",
     "text": [
      "[9, 23, 16, 34, 756, 5554, 23]\n",
      "[23, 23, 41, 34, 756, 5554]\n",
      "[34, 69, 41, 5554, 756]\n",
      "[69, 116, 756, 5554]\n"
     ]
    },
    {
     "data": {
      "text/plain": [
       "4"
      ]
     },
     "execution_count": 121,
     "metadata": {},
     "output_type": "execute_result"
    }
   ],
   "source": [
    "scoville = [756,34,23,5554,23,4,16,1]      \n",
    "K = 60\n",
    "\n",
    "import heapq\n",
    "\n",
    "def solution(scoville, K) :\n",
    "    \n",
    "    heapq.heapify(scoville)\n",
    "        \n",
    "    check = heapq.heappop(scoville)\n",
    "    heapq.heappush(scoville, check)\n",
    "    \n",
    "    cnt = 0\n",
    "    \n",
    "    while check < K :\n",
    "        if scoville :\n",
    "            t1 = heapq.heappop(scoville)\n",
    "            if scoville :\n",
    "                t2 = heapq.heappop(scoville) * 2\n",
    "            else :\n",
    "                return -1\n",
    "        else :\n",
    "            return -1\n",
    "        \n",
    "        t = t1 + t2\n",
    "        heapq.heappush(scoville, t)\n",
    "        \n",
    "        check = heapq.heappop(scoville)\n",
    "        heapq.heappush(scoville, check)\n",
    "        \n",
    "        cnt += 1\n",
    "        \n",
    "    return cnt\n",
    "\n",
    "solution(scoville, K)"
   ]
  },
  {
   "cell_type": "code",
   "execution_count": 118,
   "metadata": {
    "pycharm": {
     "name": "#%%\n"
    }
   },
   "outputs": [],
   "source": [
    "import heapq\n",
    "\n",
    "a = [14,3,1,2,4,5,124,343,5432,52,5]\n",
    "heapq.heapify(a)\n"
   ]
  },
  {
   "cell_type": "code",
   "execution_count": 120,
   "metadata": {
    "pycharm": {
     "name": "#%%\n"
    }
   },
   "outputs": [
    {
     "data": {
      "text/plain": [
       "1"
      ]
     },
     "execution_count": 120,
     "metadata": {},
     "output_type": "execute_result"
    }
   ],
   "source": [
    "min(a)"
   ]
  },
  {
   "cell_type": "code",
   "execution_count": null,
   "metadata": {
    "pycharm": {
     "name": "#%%\n"
    }
   },
   "outputs": [],
   "source": []
  }
 ],
 "metadata": {
  "kernelspec": {
   "display_name": "Python 3.8.9 64-bit",
   "language": "python",
   "name": "python3"
  },
  "language_info": {
   "codemirror_mode": {
    "name": "ipython",
    "version": 3
   },
   "file_extension": ".py",
   "mimetype": "text/x-python",
   "name": "python",
   "nbconvert_exporter": "python",
   "pygments_lexer": "ipython3",
   "version": "3.8.9"
  },
  "orig_nbformat": 4,
  "vscode": {
   "interpreter": {
    "hash": "31f2aee4e71d21fbe5cf8b01ff0e069b9275f58929596ceb00d14d90e3e16cd6"
   }
  }
 },
 "nbformat": 4,
 "nbformat_minor": 2
}