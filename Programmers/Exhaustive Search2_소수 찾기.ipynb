{
 "cells": [
  {
   "cell_type": "markdown",
   "metadata": {},
   "source": [
    "\n"
   ]
  },
  {
   "cell_type": "markdown",
   "id": "4d49a472",
   "metadata": {},
   "source": [
    "[문제 바로가기(완전탐색2_소수찾기)](https://school.programmers.co.kr/learn/courses/30/lessons/42839)"
   ]
  },
  {
   "cell_type": "markdown",
   "id": "b8b67440",
   "metadata": {},
   "source": [
    "### itertools의 permutations (순열)을 이용하여 문제를 품\n",
    "- 1~ (입력배열의 길이) 만큼 조합으로 가능한 모든 조합을 중복제거하여 리스트로 저장\n",
    "- 리스트에서 소수만 판별"
   ]
  },
  {
   "cell_type": "code",
   "execution_count": 32,
   "metadata": {},
   "outputs": [],
   "source": [
    "from itertools import permutations\n",
    "\n",
    "def solution(numbers) :\n",
    "    \n",
    "    factor = [i for i in numbers]\n",
    "    arr = []\n",
    "    for i in range(1,len(numbers)+1) :\n",
    "        t = list(set(map(''.join, permutations(factor,i))))\n",
    "        arr += t\n",
    "    arr = list(set([int(i) for i in arr]))\n",
    "    \n",
    "    result = []\n",
    "    for i in arr :\n",
    "        prime = True\n",
    "        if i <= 1 :\n",
    "            prime = False\n",
    "            \n",
    "        else :\n",
    "            for j in range(2,i) :\n",
    "                if i%j == 0 :\n",
    "                    prime = False\n",
    "                    break\n",
    "        result.append(prime)\n",
    "    return result.count(True)"
   ]
  }
 ],
 "metadata": {
  "kernelspec": {
   "display_name": "Python 3.8.9 64-bit",
   "language": "python",
   "name": "python3"
  },
  "language_info": {
   "codemirror_mode": {
    "name": "ipython",
    "version": 3
   },
   "file_extension": ".py",
   "mimetype": "text/x-python",
   "name": "python",
   "nbconvert_exporter": "python",
   "pygments_lexer": "ipython3",
   "version": "3.8.9"
  },
  "orig_nbformat": 4,
  "vscode": {
   "interpreter": {
    "hash": "31f2aee4e71d21fbe5cf8b01ff0e069b9275f58929596ceb00d14d90e3e16cd6"
   }
  }
 },
 "nbformat": 4,
 "nbformat_minor": 2
}
