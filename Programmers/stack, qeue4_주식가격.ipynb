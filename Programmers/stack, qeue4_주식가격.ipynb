{
 "cells": [
  {
   "cell_type": "markdown",
   "metadata": {},
   "source": [
    "[문제 바로가기(스택/큐4_주식가격)](https://programmers.co.kr/learn/courses/30/lessons/42584)"
   ]
  },
  {
   "cell_type": "markdown",
   "metadata": {},
   "source": [
    "### O(N^2)으로 풀었다.\n",
    "- 문제가 처음에는 이해가 가지 않았지만 포인트는 하나다.\n",
    "- 입력 배열을 순차탐색면서, 그 배열에서 값이 작아질때까지 카운팅.\n",
    "- 만약 뒷 요소가 더 작다면 그 전까지는 카운팅해주어야 한다는 것."
   ]
  },
  {
   "cell_type": "code",
   "execution_count": 35,
   "metadata": {},
   "outputs": [],
   "source": [
    "prices = [3,2,8,3,9,4,3]\n",
    "\n",
    "def solution(prices) :\n",
    "    result = []\n",
    "    for i in range(len(prices)) :\n",
    "        cnt = 0\n",
    "        for j in range(i+1, len(prices)) :\n",
    "            cnt += 1\n",
    "            if prices[i] > prices[j] :\n",
    "                break\n",
    "        result.append(cnt)\n",
    "    return result\n",
    "    "
   ]
  },
  {
   "cell_type": "code",
   "execution_count": 36,
   "metadata": {},
   "outputs": [
    {
     "data": {
      "text/plain": [
       "[1, 5, 1, 3, 1, 1, 0]"
      ]
     },
     "execution_count": 36,
     "metadata": {},
     "output_type": "execute_result"
    }
   ],
   "source": [
    "solution(prices)"
   ]
  },
  {
   "cell_type": "code",
   "execution_count": null,
   "metadata": {},
   "outputs": [],
   "source": []
  },
  {
   "cell_type": "code",
   "execution_count": null,
   "metadata": {},
   "outputs": [],
   "source": []
  },
  {
   "cell_type": "code",
   "execution_count": null,
   "metadata": {},
   "outputs": [],
   "source": []
  },
  {
   "cell_type": "code",
   "execution_count": null,
   "metadata": {},
   "outputs": [],
   "source": [
    "ㄹ"
   ]
  }
 ],
 "metadata": {
  "kernelspec": {
   "display_name": "Python 3.9.12 ('base')",
   "language": "python",
   "name": "python3"
  },
  "language_info": {
   "codemirror_mode": {
    "name": "ipython",
    "version": 3
   },
   "file_extension": ".py",
   "mimetype": "text/x-python",
   "name": "python",
   "nbconvert_exporter": "python",
   "pygments_lexer": "ipython3",
   "version": "3.9.12"
  },
  "orig_nbformat": 4,
  "vscode": {
   "interpreter": {
    "hash": "264f328787b37f16064491fd7146204bcd0255a73efd7eb6872c13ff28cded60"
   }
  }
 },
 "nbformat": 4,
 "nbformat_minor": 2
}
