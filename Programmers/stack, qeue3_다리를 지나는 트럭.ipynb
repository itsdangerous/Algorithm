{
 "cells": [
  {
   "cell_type": "markdown",
   "metadata": {},
   "source": [
    "[문제 바로가기(스택/큐3_다리를 지나는 트럭)](https://programmers.co.kr/learn/courses/30/lessons/42583)"
   ]
  },
  {
   "cell_type": "code",
   "execution_count": 54,
   "metadata": {},
   "outputs": [],
   "source": [
    "from collections import deque\n",
    "\n",
    "def solution(bridge_length, weight, truck_weights) :\n",
    "    \n",
    "    len_truck_weights = len(truck_weights)\n",
    "\n",
    "    run_truck = deque()\n",
    "    bridge = deque()\n",
    "    complete = deque()\n",
    "\n",
    "    truck_weights = deque(truck_weights)\n",
    "\n",
    "    time = 0\n",
    "\n",
    "    while 1 :\n",
    "        \n",
    "        time += 1\n",
    "        if truck_weights and sum(bridge) + truck_weights[0] <= weight :\n",
    "            bridge.append(truck_weights.popleft())\n",
    "            run_truck.append(0)\n",
    "            \n",
    "        for i in range(len(run_truck)) :\n",
    "            run_truck[i] += 1\n",
    "            \n",
    "        if run_truck[0] >= bridge_length :\n",
    "            complete.append(bridge.popleft())\n",
    "            run_truck.popleft()\n",
    "            if truck_weights and sum(bridge) + truck_weights[0] <= weight :\n",
    "                bridge.append(truck_weights.popleft())\n",
    "                run_truck.append(0)\n",
    "            \n",
    "        if len(complete) == len_truck_weights :\n",
    "            break\n",
    "        \n",
    "    return time+1\n",
    "   \n",
    "   \n",
    "   \n",
    "   \n",
    "        "
   ]
  },
  {
   "cell_type": "code",
   "execution_count": 55,
   "metadata": {},
   "outputs": [
    {
     "data": {
      "text/plain": [
       "110"
      ]
     },
     "execution_count": 55,
     "metadata": {},
     "output_type": "execute_result"
    }
   ],
   "source": [
    "solution(bridge_length, weight, truck_weights)"
   ]
  },
  {
   "cell_type": "code",
   "execution_count": null,
   "metadata": {},
   "outputs": [],
   "source": []
  }
 ],
 "metadata": {
  "kernelspec": {
   "display_name": "Python 3.9.12 ('base')",
   "language": "python",
   "name": "python3"
  },
  "language_info": {
   "codemirror_mode": {
    "name": "ipython",
    "version": 3
   },
   "file_extension": ".py",
   "mimetype": "text/x-python",
   "name": "python",
   "nbconvert_exporter": "python",
   "pygments_lexer": "ipython3",
   "version": "3.9.12"
  },
  "orig_nbformat": 4,
  "vscode": {
   "interpreter": {
    "hash": "264f328787b37f16064491fd7146204bcd0255a73efd7eb6872c13ff28cded60"
   }
  }
 },
 "nbformat": 4,
 "nbformat_minor": 2
}
