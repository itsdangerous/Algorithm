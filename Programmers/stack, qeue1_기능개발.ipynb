{
 "cells": [
  {
   "cell_type": "markdown",
   "metadata": {},
   "source": [
    "[문제 바로가기(스택/큐1_기능개발)](https://programmers.co.kr/learn/courses/30/lessons/42586)"
   ]
  },
  {
   "cell_type": "markdown",
   "metadata": {},
   "source": [
    "### deqeue를 이용하여 구현하였다.\n",
    "- progresses와 speeds 두개 모두를 deqeue 객체로 만든 후, 제거하는 방식으로 구현"
   ]
  },
  {
   "cell_type": "code",
   "execution_count": 1,
   "metadata": {},
   "outputs": [],
   "source": [
    "from collections import deque\n",
    "\n",
    "progresses = [95, 90, 99, 99, 80, 99]\n",
    "speeds = [1, 1, 1, 1, 1, 1]\n",
    "\n",
    "def solution(progresses, speeds) :\n",
    "    \n",
    "    progresses = deque(progresses)\n",
    "    speeds = deque(speeds)\n",
    "\n",
    "    result = []\n",
    "\n",
    "    while progresses :\n",
    "        cnt = 0\n",
    "        while progresses[0] <100 :\n",
    "            for idx in range(len(progresses)) :\n",
    "                progresses[idx] += speeds[idx]\n",
    "        \n",
    "        while 1 :\n",
    "            if progresses :\n",
    "                if progresses[0] >= 100 :\n",
    "                    progresses.popleft()\n",
    "                    speeds.popleft()\n",
    "                    cnt += 1\n",
    "                    continue\n",
    "                else : break\n",
    "            else :\n",
    "                break\n",
    "        result.append(cnt)\n",
    "    \n",
    "    return result"
   ]
  }
 ],
 "metadata": {
  "kernelspec": {
   "display_name": "Python 3.9.12 ('base')",
   "language": "python",
   "name": "python3"
  },
  "language_info": {
   "codemirror_mode": {
    "name": "ipython",
    "version": 3
   },
   "file_extension": ".py",
   "mimetype": "text/x-python",
   "name": "python",
   "nbconvert_exporter": "python",
   "pygments_lexer": "ipython3",
   "version": "3.9.12"
  },
  "orig_nbformat": 4,
  "vscode": {
   "interpreter": {
    "hash": "264f328787b37f16064491fd7146204bcd0255a73efd7eb6872c13ff28cded60"
   }
  }
 },
 "nbformat": 4,
 "nbformat_minor": 2
}
