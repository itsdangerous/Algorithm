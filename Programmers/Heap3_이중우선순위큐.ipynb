{
 "cells": [
  {
   "cell_type": "markdown",
   "id": "4d49a472",
   "metadata": {},
   "source": [
    "[문제 바로가기(힙3_이중우선순위큐)](https://school.programmers.co.kr/learn/courses/30/lessons/42628)"
   ]
  },
  {
   "cell_type": "markdown",
   "id": "b8b67440",
   "metadata": {},
   "source": [
    "### heapq 최대힙과 최소힙을 이용하여 풀었다.\n",
    "- 최댓값을 삭제하기 위해서 최대 힙을,\n",
    "- 최솟값을 삭제하기 위해서 최소 힙을 사용했고\n",
    "- 최대힙을 만들기 위해서 리스트의 모든 요소들을 -곱해준 뒤 pop을 하고 다시 -곱을 해준다."
   ]
  },
  {
   "cell_type": "code",
   "execution_count": 161,
   "metadata": {},
   "outputs": [],
   "source": [
    "operations = [\"I 16\", \"I -5643\", \"D -1\", \"D 1\", \"D 1\", \"I 123\", \"D -1\"]\n",
    "\n",
    "import heapq\n",
    "\n",
    "def solution(operations) :\n",
    "    \n",
    "    result = []\n",
    "    heapq.heapify(result)\n",
    "\n",
    "    for i in operations :\n",
    "        if i[0] == 'I' :\n",
    "            k = int(i[1:])\n",
    "            heapq.heappush(result, k)\n",
    "            \n",
    "        elif i[0] =='D' :\n",
    "            if i[2:] == '1' :\n",
    "                if result :\n",
    "                    \n",
    "                    for i in range(len(result)) :\n",
    "                        result[i] = -result[i]\n",
    "                    heapq.heapify(result)\n",
    "                    \n",
    "                    heapq.heappop(result)\n",
    "                    \n",
    "                    for i in range(len(result)) :\n",
    "                        result[i] = -result[i]\n",
    "                    heapq.heapify(result)\n",
    "                    \n",
    "                else :\n",
    "                    continue\n",
    "            else :\n",
    "                if result :\n",
    "                    \n",
    "                    heapq.heappop(result)\n",
    "                    \n",
    "                else :\n",
    "                    continue\n",
    "        #print(result)\n",
    "    if result :\n",
    "        return [min(result), max(result)]\n",
    "    else :\n",
    "        return [0,0]\n",
    "                    \n",
    "                    \n",
    "    "
   ]
  },
  {
   "cell_type": "code",
   "execution_count": 162,
   "metadata": {},
   "outputs": [
    {
     "data": {
      "text/plain": [
       "[0, 0]"
      ]
     },
     "execution_count": 162,
     "metadata": {},
     "output_type": "execute_result"
    }
   ],
   "source": [
    "solution(operations)"
   ]
  },
  {
   "cell_type": "code",
   "execution_count": null,
   "metadata": {},
   "outputs": [],
   "source": []
  }
 ],
 "metadata": {
  "kernelspec": {
   "display_name": "Python 3.8.9 64-bit",
   "language": "python",
   "name": "python3"
  },
  "language_info": {
   "codemirror_mode": {
    "name": "ipython",
    "version": 3
   },
   "file_extension": ".py",
   "mimetype": "text/x-python",
   "name": "python",
   "nbconvert_exporter": "python",
   "pygments_lexer": "ipython3",
   "version": "3.8.9"
  },
  "orig_nbformat": 4,
  "vscode": {
   "interpreter": {
    "hash": "31f2aee4e71d21fbe5cf8b01ff0e069b9275f58929596ceb00d14d90e3e16cd6"
   }
  }
 },
 "nbformat": 4,
 "nbformat_minor": 2
}
