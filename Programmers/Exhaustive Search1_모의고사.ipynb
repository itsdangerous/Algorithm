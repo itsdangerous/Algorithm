{
 "cells": [
  {
   "cell_type": "markdown",
   "id": "4d49a472",
   "metadata": {},
   "source": [
    "[문제 바로가기(완전탐색1_모의고사)](https://programmers.co.kr/learn/courses/30/lessons/42840)"
   ]
  },
  {
   "cell_type": "markdown",
   "id": "b8b67440",
   "metadata": {},
   "source": [
    "### 수포자 삼인방의 패턴을 가지고 점수를 내는 문제\n",
    "- 입력 배열 answer를 순차 탐색하면서 패턴의 인덱스 요소를 비교함.\n",
    "- point는 탐색하면서 패턴을 순활할 수 있게 i%(패턴의 길이) 로 인덱싱 함.\n",
    "- 마지막으로는 점수 배열을 돌면서 해당 점수가 최대값일 경우 배열에 그 인덱스를 추가하고 정렬된 배열 return."
   ]
  },
  {
   "cell_type": "code",
   "execution_count": 32,
   "metadata": {},
   "outputs": [],
   "source": [
    "\n",
    "def solution(answers) :\n",
    "    \n",
    "    l1 = [1,2,3,4,5]\n",
    "    l2 = [2,1,2,3,2,4,2,5]\n",
    "    l3 = [3,3,1,1,2,2,4,4,5,5]\n",
    "    c1 = c2 = c3 = 0\n",
    "    result = []\n",
    "    \n",
    "    for i in range(len(answers)) :\n",
    "        \n",
    "        if l1[i%5] == answers[i] :\n",
    "            c1 += 1\n",
    "        if l2[i%8] == answers[i] :\n",
    "            c2 += 1\n",
    "        if l3[i%10] == answers[i] :\n",
    "            c3 += 1\n",
    "    point = [c1,c2,c3]\n",
    "    \n",
    "    for idx, value in enumerate(point) :\n",
    "        if value == max(point) :\n",
    "            result.append(idx+1)\n",
    "            \n",
    "    return sorted(result)"
   ]
  }
 ],
 "metadata": {
  "kernelspec": {
   "display_name": "Python 3.8.9 64-bit",
   "language": "python",
   "name": "python3"
  },
  "language_info": {
   "codemirror_mode": {
    "name": "ipython",
    "version": 3
   },
   "file_extension": ".py",
   "mimetype": "text/x-python",
   "name": "python",
   "nbconvert_exporter": "python",
   "pygments_lexer": "ipython3",
   "version": "3.8.9"
  },
  "orig_nbformat": 4,
  "vscode": {
   "interpreter": {
    "hash": "31f2aee4e71d21fbe5cf8b01ff0e069b9275f58929596ceb00d14d90e3e16cd6"
   }
  }
 },
 "nbformat": 4,
 "nbformat_minor": 2
}
