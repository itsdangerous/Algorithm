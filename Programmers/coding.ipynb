{
 "cells": [
  {
   "cell_type": "code",
   "execution_count": 111,
   "metadata": {
    "collapsed": true,
    "pycharm": {
     "name": "#%%\n"
    }
   },
   "outputs": [],
   "source": [
    "# 첫째줄에 문자열 s, 둘째 줄에 문자열 pattern 주어짐\n",
    "# pattern이 s의 부분 문자열이면 1, 아니면 0을 출력\n",
    "def solution(reference, track) :\n",
    "\n",
    "    point = []\n",
    "\n",
    "    def check(track) :\n",
    "        tmp = ''\n",
    "        for i in track :\n",
    "            tmp += i\n",
    "            if is_partition(reference, tmp) :\n",
    "                continue\n",
    "\n",
    "            else :\n",
    "                tmp = tmp[:-1]\n",
    "                point.append(tmp)\n",
    "                check(track[len(tmp):])\n",
    "        point.append(tmp)\n",
    "    check(track)\n",
    "\n",
    "    return len(min(point, key=len))\n",
    "\n",
    "def is_partition(s, pattern) :\n",
    "    pi = [0 for x in range(len(pattern))]\n",
    "\n",
    "    def getPI(pattern):\n",
    "        j = 0\n",
    "        for i in range(1, len(pattern)):\n",
    "            while j > 0 and pattern[i] != pattern[j]:\n",
    "                j = pi[j - 1]\n",
    "            if pattern[i] == pattern[j]:\n",
    "                j += 1\n",
    "                pi[i] = j\n",
    "\n",
    "    def KMP(s, pattern):\n",
    "        getPI(pattern)\n",
    "        j = 0\n",
    "        for i in range(len(s)):\n",
    "            while j > 0 and s[i] != pattern[j]:\n",
    "                j = pi[j - 1]\n",
    "            if s[i] == pattern[j]:\n",
    "                if j == len(pattern) - 1:\n",
    "                    return True\n",
    "                else:\n",
    "                    j += 1\n",
    "        return False\n",
    "\n",
    "    if KMP(s, pattern):\n",
    "        return  1\n",
    "    else:\n",
    "        return 0"
   ]
  },
  {
   "cell_type": "code",
   "execution_count": 124,
   "outputs": [],
   "source": [
    "reference = \"abc\"\n",
    "track = \"bcab\"\n",
    "\n",
    "# reference = \"vxrvip\"\n",
    "# track = \"xrviprvipvxrv\"\n",
    "\n",
    "# reference = \"curve\"\n",
    "# track = \"cururvecuvve\"\n",
    "\n",
    "# reference = \"bc\"\n",
    "# track = \"bcb\""
   ],
   "metadata": {
    "collapsed": false,
    "pycharm": {
     "name": "#%%\n"
    }
   }
  },
  {
   "cell_type": "code",
   "execution_count": 125,
   "outputs": [
    {
     "data": {
      "text/plain": "2"
     },
     "execution_count": 125,
     "metadata": {},
     "output_type": "execute_result"
    }
   ],
   "source": [
    "solution(reference, track)"
   ],
   "metadata": {
    "collapsed": false,
    "pycharm": {
     "name": "#%%\n"
    }
   }
  },
  {
   "cell_type": "code",
   "execution_count": 107,
   "outputs": [
    {
     "data": {
      "text/plain": "'rvip'"
     },
     "execution_count": 107,
     "metadata": {},
     "output_type": "execute_result"
    }
   ],
   "source": [
    "def solution(edges, roots):\n",
    "    answer = [0]*len(edges)\n",
    "    for new_r in roots:\n",
    "        flag = [False] * len(edges)\n",
    "        converse(new_r, edges, answer, flag)\n",
    "\n",
    "    return(answer)\n",
    "\n",
    "\n",
    "def converse(cur, edges, answer, flag):\n",
    "    for idx in range(len(edges)):\n",
    "        a=edges[idx][0]\n",
    "        b=edges[idx][1]\n",
    "        if b== cur:\n",
    "            if flag[idx]:\n",
    "                continue\n",
    "            edges[idx] = [b, a]\n",
    "            answer[idx] += 1\n",
    "            flag[idx] = True\n",
    "            converse(a, edges, answer, flag)\n",
    "            break\n"
   ],
   "metadata": {
    "collapsed": false,
    "pycharm": {
     "name": "#%%\n"
    }
   }
  },
  {
   "cell_type": "code",
   "execution_count": null,
   "outputs": [],
   "source": [],
   "metadata": {
    "collapsed": false,
    "pycharm": {
     "name": "#%%\n"
    }
   }
  }
 ],
 "metadata": {
  "kernelspec": {
   "display_name": "Python 3",
   "language": "python",
   "name": "python3"
  },
  "language_info": {
   "codemirror_mode": {
    "name": "ipython",
    "version": 2
   },
   "file_extension": ".py",
   "mimetype": "text/x-python",
   "name": "python",
   "nbconvert_exporter": "python",
   "pygments_lexer": "ipython2",
   "version": "2.7.6"
  }
 },
 "nbformat": 4,
 "nbformat_minor": 0
}