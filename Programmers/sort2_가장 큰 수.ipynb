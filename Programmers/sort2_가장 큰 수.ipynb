{
 "cells": [
  {
   "cell_type": "markdown",
   "metadata": {},
   "source": [
    "[문제 바로가기(정렬2_가장 큰 수)](https://programmers.co.kr/learn/courses/30/lessons/42746)"
   ]
  },
  {
   "cell_type": "code",
   "execution_count": null,
   "metadata": {},
   "outputs": [],
   "source": [
    "import math\n",
    "\n",
    "numbers = [6,10,2]\n",
    "def my_ljust(len,str) :\n",
    "    if len == 0 :\n",
    "        return str\n",
    "    my_str = ''\n",
    "    for i in range(len) :\n",
    "        my_str += str\n",
    "    return my_str\n",
    "\n",
    "def solution(numbers) :\n",
    "    answer = ''\n",
    "    \n",
    "    max_len = len(str(max(numbers)))\n",
    "    numbers = list(map(str,numbers))\n",
    "    len_sorted_num = sorted(numbers, key=(lambda x : len(x)))\n",
    "    sorted_num = sorted(len_sorted_num, key=(lambda x : (my_ljust(int(max_len/math.trunc(len(x))), x)).ljust(max_len, x[-1] ) ), reverse = True)\n",
    "    \n",
    "    answer = ''.join (sorted_num)\n",
    "    if list(map(int, answer))[0] == 0 :\n",
    "        answer = '0'\n",
    "    return answer"
   ]
  },
  {
   "cell_type": "markdown",
   "metadata": {},
   "source": []
  }
 ],
 "metadata": {
  "kernelspec": {
   "display_name": "Python 3.8.9 64-bit",
   "language": "python",
   "name": "python3"
  },
  "language_info": {
   "codemirror_mode": {
    "name": "ipython",
    "version": 3
   },
   "file_extension": ".py",
   "mimetype": "text/x-python",
   "name": "python",
   "nbconvert_exporter": "python",
   "pygments_lexer": "ipython3",
   "version": "3.8.9"
  },
  "orig_nbformat": 4,
  "vscode": {
   "interpreter": {
    "hash": "31f2aee4e71d21fbe5cf8b01ff0e069b9275f58929596ceb00d14d90e3e16cd6"
   }
  }
 },
 "nbformat": 4,
 "nbformat_minor": 2
}
