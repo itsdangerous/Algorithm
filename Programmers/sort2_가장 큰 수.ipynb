{
 "cells": [
  {
   "cell_type": "markdown",
   "metadata": {},
   "source": [
    "[문제 바로가기(정렬2_가장 큰 수)](https://programmers.co.kr/learn/courses/30/lessons/42746)"
   ]
  },
  {
   "cell_type": "code",
   "execution_count": 5,
   "metadata": {},
   "outputs": [],
   "source": [
    "def solution(numbers) :\n",
    "    if max(numbers) == 0 :\n",
    "        return '0'\n",
    "    else :\n",
    "        arr = []\n",
    "        for i in numbers :\n",
    "            arr.append([str(i)])\n",
    "\n",
    "        max_len = 0\n",
    "        for i in arr :\n",
    "            if max_len < len(i[0]) :\n",
    "                max_len = len(i[0])\n",
    "\n",
    "        for i in range(len(arr)) :\n",
    "            cnt = 0\n",
    "            ll = len(arr[i][0])\n",
    "            n = len(arr[i][0])*3\n",
    "            kk = arr[i][0]\n",
    "            for _ in range(n) :\n",
    "                arr[i][0] += kk\n",
    "                cnt += ll\n",
    "            arr[i].append(cnt)\n",
    "\n",
    "        arr = sorted(arr, reverse=True)\n",
    "        \n",
    "        result = []\n",
    "        for i in range(len(arr)) :\n",
    "            k = len(arr[i][0]) - arr[i][1]\n",
    "            result.append(arr[i][0][:k])\n",
    "\n",
    "        answer = ''\n",
    "        for i in result :\n",
    "            answer += i\n",
    "        return answer"
   ]
  }
 ],
 "metadata": {
  "kernelspec": {
   "display_name": "Python 3.8.9 64-bit",
   "language": "python",
   "name": "python3"
  },
  "language_info": {
   "codemirror_mode": {
    "name": "ipython",
    "version": 3
   },
   "file_extension": ".py",
   "mimetype": "text/x-python",
   "name": "python",
   "nbconvert_exporter": "python",
   "pygments_lexer": "ipython3",
   "version": "3.8.9"
  },
  "orig_nbformat": 4,
  "vscode": {
   "interpreter": {
    "hash": "31f2aee4e71d21fbe5cf8b01ff0e069b9275f58929596ceb00d14d90e3e16cd6"
   }
  }
 },
 "nbformat": 4,
 "nbformat_minor": 2
}
