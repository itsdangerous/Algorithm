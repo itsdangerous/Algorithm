{
 "cells": [
  {
   "cell_type": "markdown",
   "source": [
    "[문제바로가기(15649_N 과 M)](https://www.acmicpc.net/problem/15649)"
   ],
   "metadata": {
    "collapsed": false,
    "pycharm": {
     "name": "#%% md\n"
    }
   }
  },
  {
   "cell_type": "markdown",
   "source": [
    "이 문제는 순열을 구하는 문제였다.\n",
    "1부터 n까지의 배열을 만들고, 그 배열의 요소들로 m개를 꺼내어 순열을 만드는 것.\n",
    "\n",
    "내장 라이브러리인 itertools를 이용한 것과\n",
    "\n",
    "재귀함수를 이용하여 DFS방식으로 접근한 풀이방법이 있다."
   ],
   "metadata": {
    "collapsed": false,
    "pycharm": {
     "name": "#%% md\n"
    }
   }
  },
  {
   "cell_type": "code",
   "execution_count": 64,
   "outputs": [
    {
     "name": "stdout",
     "output_type": "stream",
     "text": [
      "1 1 \n",
      "1 2 \n",
      "1 3 \n",
      "1 4 \n",
      "2 2 \n",
      "2 3 \n",
      "2 4 \n",
      "3 3 \n",
      "3 4 \n",
      "4 4 \n"
     ]
    }
   ],
   "source": [
    "from itertools import permutations\n",
    "\n",
    "n, m = map(int, input().split())\n",
    "\n",
    "arr = [i for i in range(1, n+1)]\n",
    "\n",
    "result = list(permutations(arr, m))\n",
    "\n",
    "for i in result :\n",
    "    for j in i :\n",
    "        print(j,end=' ')\n",
    "    print()"
   ],
   "metadata": {
    "collapsed": false,
    "pycharm": {
     "name": "#%%\n"
    }
   }
  },
  {
   "cell_type": "markdown",
   "source": [
    "- 리스트에서 r개를 뽑아 순열로 만든다.\n",
    "- DFS로 구현한다."
   ],
   "metadata": {
    "collapsed": false,
    "pycharm": {
     "name": "#%% md\n"
    }
   }
  },
  {
   "cell_type": "code",
   "execution_count": 38,
   "outputs": [
    {
     "name": "stdout",
     "output_type": "stream",
     "text": [
      "[1, 2, 3]\n",
      "[1, 2, 4]\n",
      "[1, 3, 2]\n",
      "[1, 3, 4]\n",
      "[1, 4, 2]\n",
      "[1, 4, 3]\n",
      "[2, 1, 3]\n",
      "[2, 1, 4]\n",
      "[2, 3, 1]\n",
      "[2, 3, 4]\n",
      "[2, 4, 1]\n",
      "[2, 4, 3]\n",
      "[3, 1, 2]\n",
      "[3, 1, 4]\n",
      "[3, 2, 1]\n",
      "[3, 2, 4]\n",
      "[3, 4, 1]\n",
      "[3, 4, 2]\n",
      "[4, 1, 2]\n",
      "[4, 1, 3]\n",
      "[4, 2, 1]\n",
      "[4, 2, 3]\n",
      "[4, 3, 1]\n",
      "[4, 3, 2]\n"
     ]
    }
   ],
   "source": [
    "def permutation(arr, r) :\n",
    "    # 사용된 원소를 저장할 배열을 만든다.\n",
    "    arr = sorted(arr)\n",
    "    used = [0 for _ in range(len(arr))]\n",
    "\n",
    "    def generate(chosen, used) :\n",
    "        # 선택리스트에 순열의 원소를 저장하다가 개수가 r개가 되면 출력 후 함수를 종료한다.\n",
    "        if len(chosen) == r :\n",
    "            print(chosen)\n",
    "            return\n",
    "\n",
    "        for i in range(len(arr)) :\n",
    "            # 반복문을 돌며, 아직 사용하지 않았다면 다음을 수행한다.\n",
    "            if not used[i] :\n",
    "                # 선택리스트에 저장하고 방문체크한다.\n",
    "                chosen.append(arr[i])\n",
    "                used[i] = 1\n",
    "                # 다시 gerate 함수를 반복한다.\n",
    "                generate(chosen, used)\n",
    "                # 하나의 순열이 만들어지면 다시 uncheck한다.\n",
    "                used[i] = 0\n",
    "                chosen.pop()\n",
    "    generate([], used)\n",
    "\n",
    "permutation([1,2,3,4], 3)\n",
    "\n",
    "\n"
   ],
   "metadata": {
    "collapsed": false,
    "pycharm": {
     "name": "#%%\n"
    }
   }
  },
  {
   "cell_type": "markdown",
   "source": [],
   "metadata": {
    "collapsed": false,
    "pycharm": {
     "name": "#%% md\n"
    }
   }
  }
 ],
 "metadata": {
  "kernelspec": {
   "display_name": "Python 3.9.12 ('base')",
   "language": "python",
   "name": "python3"
  },
  "language_info": {
   "codemirror_mode": {
    "name": "ipython",
    "version": 3
   },
   "file_extension": ".py",
   "mimetype": "text/x-python",
   "name": "python",
   "nbconvert_exporter": "python",
   "pygments_lexer": "ipython3",
   "version": "3.9.12"
  },
  "orig_nbformat": 4,
  "vscode": {
   "interpreter": {
    "hash": "264f328787b37f16064491fd7146204bcd0255a73efd7eb6872c13ff28cded60"
   }
  }
 },
 "nbformat": 4,
 "nbformat_minor": 2
}