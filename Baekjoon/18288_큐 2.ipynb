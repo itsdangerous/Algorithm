{
 "cells": [
  {
   "cell_type": "code",
   "execution_count": 4,
   "outputs": [
    {
     "ename": "ValueError",
     "evalue": "invalid literal for int() with base 10: ''",
     "output_type": "error",
     "traceback": [
      "\u001B[0;31m---------------------------------------------------------------------------\u001B[0m",
      "\u001B[0;31mValueError\u001B[0m                                Traceback (most recent call last)",
      "Cell \u001B[0;32mIn[4], line 4\u001B[0m\n\u001B[1;32m      2\u001B[0m \u001B[38;5;28;01mimport\u001B[39;00m \u001B[38;5;21;01msys\u001B[39;00m\n\u001B[1;32m      3\u001B[0m \u001B[38;5;28minput\u001B[39m \u001B[38;5;241m=\u001B[39m sys\u001B[38;5;241m.\u001B[39mstdin\u001B[38;5;241m.\u001B[39mreadline\n\u001B[0;32m----> 4\u001B[0m n \u001B[38;5;241m=\u001B[39m \u001B[38;5;28;43mint\u001B[39;49m\u001B[43m(\u001B[49m\u001B[38;5;28;43minput\u001B[39;49m\u001B[43m(\u001B[49m\u001B[43m)\u001B[49m\u001B[43m)\u001B[49m\n\u001B[1;32m      6\u001B[0m arr \u001B[38;5;241m=\u001B[39m deque([])\n\u001B[1;32m      7\u001B[0m \u001B[38;5;28;01mfor\u001B[39;00m i \u001B[38;5;129;01min\u001B[39;00m \u001B[38;5;28mrange\u001B[39m(n) :\n",
      "\u001B[0;31mValueError\u001B[0m: invalid literal for int() with base 10: ''"
     ]
    }
   ],
   "source": [
    "from collections import deque\n",
    "\n",
    "import sys\n",
    "input = sys.stdin.readline\n",
    "n = int(input())\n",
    "\n",
    "arr = deque([])\n",
    "for i in range(n) :\n",
    "    s = input().split()\n",
    "\n",
    "    if s[0] == 'push' :\n",
    "        arr.append(int(s[-1]))\n",
    "    elif s[0] == 'pop':\n",
    "        if arr:\n",
    "            print(arr.popleft())\n",
    "        else:\n",
    "            print(-1)\n",
    "    elif s[0] == 'size':\n",
    "        print(len(arr))\n",
    "    elif s[0] == 'empty':\n",
    "        if arr:\n",
    "            print(0)\n",
    "        else:\n",
    "            print(1)\n",
    "    elif s[0] == 'front':\n",
    "        if arr:\n",
    "            print(arr[0])\n",
    "        else:\n",
    "            print(-1)\n",
    "    elif s[0] == 'back':\n",
    "        if arr:\n",
    "            print(arr[-1])\n",
    "        else:\n",
    "            print(-1)\n"
   ],
   "metadata": {
    "collapsed": false
   }
  }
 ],
 "metadata": {
  "kernelspec": {
   "display_name": "Python 3",
   "language": "python",
   "name": "python3"
  },
  "language_info": {
   "codemirror_mode": {
    "name": "ipython",
    "version": 2
   },
   "file_extension": ".py",
   "mimetype": "text/x-python",
   "name": "python",
   "nbconvert_exporter": "python",
   "pygments_lexer": "ipython2",
   "version": "2.7.6"
  }
 },
 "nbformat": 4,
 "nbformat_minor": 0
}
