{
 "cells": [
  {
   "cell_type": "markdown",
   "source": [
    "[문제바로가기(1004_어린왕자)](https://www.acmicpc.net/problem/1004)"
   ],
   "metadata": {
    "collapsed": false,
    "pycharm": {
     "name": "#%% md\n"
    }
   }
  },
  {
   "cell_type": "markdown",
   "source": [
    "Idea : 모든 행성에 대해서 루프를 돌며 두 점과의 거리를 이용해 그 점이 해당 행성 안에 있는지 판별하여\n",
    "점이 몇 개의 행성 안에 포함 되는지 result에 저장.\n",
    "\n",
    "만약, 서로 공유하고 있는 행성(같은 은하)이 있다면 그 개수의 2배만큼 빼줌."
   ],
   "metadata": {
    "collapsed": false,
    "pycharm": {
     "name": "#%% md\n"
    }
   }
  },
  {
   "cell_type": "code",
   "execution_count": 1,
   "outputs": [
    {
     "ename": "ValueError",
     "evalue": "invalid literal for int() with base 10: ''",
     "output_type": "error",
     "traceback": [
      "\u001B[0;31m---------------------------------------------------------------------------\u001B[0m",
      "\u001B[0;31mValueError\u001B[0m                                Traceback (most recent call last)",
      "Input \u001B[0;32mIn [1]\u001B[0m, in \u001B[0;36m<cell line: 5>\u001B[0;34m()\u001B[0m\n\u001B[1;32m      1\u001B[0m \u001B[38;5;28;01mdef\u001B[39;00m  \u001B[38;5;21mdistance_point_to_circle\u001B[39m(p, c) :\n\u001B[1;32m      3\u001B[0m     \u001B[38;5;28;01mreturn\u001B[39;00m ((p[\u001B[38;5;241m0\u001B[39m]\u001B[38;5;241m-\u001B[39mc[\u001B[38;5;241m0\u001B[39m])\u001B[38;5;241m*\u001B[39m(p[\u001B[38;5;241m0\u001B[39m]\u001B[38;5;241m-\u001B[39mc[\u001B[38;5;241m0\u001B[39m]) \u001B[38;5;241m+\u001B[39m (p[\u001B[38;5;241m1\u001B[39m] \u001B[38;5;241m-\u001B[39m c[\u001B[38;5;241m1\u001B[39m])\u001B[38;5;241m*\u001B[39m(p[\u001B[38;5;241m1\u001B[39m] \u001B[38;5;241m-\u001B[39m c[\u001B[38;5;241m1\u001B[39m]))\n\u001B[0;32m----> 5\u001B[0m T \u001B[38;5;241m=\u001B[39m \u001B[38;5;28;43mint\u001B[39;49m\u001B[43m(\u001B[49m\u001B[38;5;28;43minput\u001B[39;49m\u001B[43m(\u001B[49m\u001B[43m)\u001B[49m\u001B[43m)\u001B[49m\n\u001B[1;32m      7\u001B[0m \u001B[38;5;28;01mfor\u001B[39;00m i \u001B[38;5;129;01min\u001B[39;00m \u001B[38;5;28mrange\u001B[39m(T) :\n\u001B[1;32m      8\u001B[0m     x1, y1, x2, y2 \u001B[38;5;241m=\u001B[39m \u001B[38;5;28mmap\u001B[39m(\u001B[38;5;28mint\u001B[39m, \u001B[38;5;28minput\u001B[39m()\u001B[38;5;241m.\u001B[39msplit())\n",
      "\u001B[0;31mValueError\u001B[0m: invalid literal for int() with base 10: ''"
     ]
    }
   ],
   "source": [
    "def  distance_point_to_circle(p, c) :\n",
    "\n",
    "    return ((p[0]-c[0])*(p[0]-c[0]) + (p[1] - c[1])*(p[1] - c[1]))\n",
    "\n",
    "T = int(input())\n",
    "\n",
    "for i in range(T) :\n",
    "    x1, y1, x2, y2 = map(int, input().split())\n",
    "    C = []\n",
    "    n = int(input())\n",
    "    for i in range(n) :\n",
    "        c_x, c_y, r = map(int, input().split())\n",
    "        C.append([c_x, c_y, r])\n",
    "\n",
    "    p1 = [x1, y1]\n",
    "    p2 = [x2, y2]\n",
    "\n",
    "    result = 0\n",
    "    area1 = []\n",
    "    area2 = []\n",
    "\n",
    "    for i in C :\n",
    "        c, r = [i[0], i[1]], i[2]\n",
    "        if distance_point_to_circle(p1, c) < r*r  : # 점이 원 안에 있을 경우\n",
    "            result += 1\n",
    "            area1.append((c[0],c[1], r))\n",
    "\n",
    "        if distance_point_to_circle(p2, c) < r*r : # 점이 원 안에 있을 경우\n",
    "            result += 1\n",
    "            area2.append((c[0],c[1], r))\n",
    "\n",
    "    print(result - 2*len(set(area1) & set(area2)))"
   ],
   "metadata": {
    "collapsed": false,
    "pycharm": {
     "name": "#%%\n"
    }
   }
  },
  {
   "cell_type": "code",
   "execution_count": null,
   "outputs": [],
   "source": [],
   "metadata": {
    "collapsed": false,
    "pycharm": {
     "name": "#%%\n"
    }
   }
  }
 ],
 "metadata": {
  "kernelspec": {
   "display_name": "Python 3.9.12 ('base')",
   "language": "python",
   "name": "python3"
  },
  "language_info": {
   "codemirror_mode": {
    "name": "ipython",
    "version": 3
   },
   "file_extension": ".py",
   "mimetype": "text/x-python",
   "name": "python",
   "nbconvert_exporter": "python",
   "pygments_lexer": "ipython3",
   "version": "3.9.12"
  },
  "orig_nbformat": 4,
  "vscode": {
   "interpreter": {
    "hash": "264f328787b37f16064491fd7146204bcd0255a73efd7eb6872c13ff28cded60"
   }
  }
 },
 "nbformat": 4,
 "nbformat_minor": 2
}