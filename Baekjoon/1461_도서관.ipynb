{
 "cells": [
  {
   "cell_type": "markdown",
   "source": [
    "[문제바로가기(1461_도서관)](https://www.acmicpc.net/problem/1461)"
   ],
   "metadata": {
    "collapsed": false,
    "pycharm": {
     "name": "#%% md\n"
    }
   }
  },
  {
   "cell_type": "markdown",
   "source": [],
   "metadata": {
    "collapsed": false,
    "pycharm": {
     "name": "#%% md\n"
    }
   }
  },
  {
   "cell_type": "code",
   "execution_count": 27,
   "outputs": [],
   "source": [
    "def function(arr1, arr2) :\n",
    "    r = 0\n",
    "    idx = len(arr1) - 1\n",
    "    while idx >= 0 :\n",
    "        if idx == len(arr1) - 1 :\n",
    "            r += arr1[idx]\n",
    "        else :\n",
    "            r += arr1[idx]*2\n",
    "        idx -= m\n",
    "\n",
    "\n",
    "    idx = len(arr2) - 1\n",
    "    while idx >= 0 :\n",
    "        r += arr2[idx]*2\n",
    "        idx -= m\n",
    "    return r"
   ],
   "metadata": {
    "collapsed": false,
    "pycharm": {
     "name": "#%%\n"
    }
   }
  },
  {
   "cell_type": "code",
   "execution_count": 35,
   "outputs": [
    {
     "name": "stdout",
     "output_type": "stream",
     "text": [
      "1\n"
     ]
    }
   ],
   "source": [
    "def function(arr1, arr2) :\n",
    "    r = 0\n",
    "    idx = len(arr1) - 1\n",
    "    while idx >= 0 :\n",
    "        if idx == len(arr1) - 1 :\n",
    "            r += arr1[idx]\n",
    "        else :\n",
    "            r += arr1[idx]*2\n",
    "        idx -= m\n",
    "\n",
    "\n",
    "    idx = len(arr2) - 1\n",
    "    while idx >= 0 :\n",
    "        r += arr2[idx]*2\n",
    "        idx -= m\n",
    "    return r\n",
    "\n",
    "n, m = map(int, input().split())\n",
    "\n",
    "arr = list(map(int, input().split()))\n",
    "\n",
    "arr1 = []\n",
    "arr2 = []\n",
    "\n",
    "for idx, value in enumerate(arr) :\n",
    "    if value < 0 :\n",
    "        arr1.append(value)\n",
    "    else :\n",
    "        arr2.append(value)\n",
    "\n",
    "arr1 = sorted([-i for i in arr1])\n",
    "arr2 = sorted(arr2)\n",
    "\n",
    "answer  = 0\n",
    "if arr1 != [] and arr2 != [] :\n",
    "\n",
    "    if arr1[-1] >= arr2[-1] :\n",
    "        answer += function(arr1, arr2)\n",
    "    else :\n",
    "        answer += function(arr2, arr1)\n",
    "\n",
    "elif not arr1:\n",
    "    answer += function(arr2, arr1)\n",
    "else :\n",
    "    answer  += function(arr1,  arr2)\n",
    "\n",
    "print(answer)"
   ],
   "metadata": {
    "collapsed": false,
    "pycharm": {
     "name": "#%%\n"
    }
   }
  }
 ],
 "metadata": {
  "kernelspec": {
   "display_name": "Python 3.9.12 ('base')",
   "language": "python",
   "name": "python3"
  },
  "language_info": {
   "codemirror_mode": {
    "name": "ipython",
    "version": 3
   },
   "file_extension": ".py",
   "mimetype": "text/x-python",
   "name": "python",
   "nbconvert_exporter": "python",
   "pygments_lexer": "ipython3",
   "version": "3.9.12"
  },
  "orig_nbformat": 4,
  "vscode": {
   "interpreter": {
    "hash": "264f328787b37f16064491fd7146204bcd0255a73efd7eb6872c13ff28cded60"
   }
  }
 },
 "nbformat": 4,
 "nbformat_minor": 2
}