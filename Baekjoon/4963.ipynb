{
 "cells": [
  {
   "cell_type": "code",
   "execution_count": 66,
   "metadata": {
    "pycharm": {
     "name": "#%%\n"
    }
   },
   "outputs": [
    {
     "name": "stdout",
     "output_type": "stream",
     "text": [
      "#1 2\n",
      "#2 5\n"
     ]
    }
   ],
   "source": [
    "# 2) bfs로 풀어보기, w와 h 헷갈\n",
    "# 상하좌우, 대각선\n",
    "import copy\n",
    "from collections import deque\n",
    "\n",
    "def bfs(y,x):\n",
    "    \n",
    "    dx = [0, 0, -1, +1]\n",
    "    dy = [-1, +1, 0, 0]\n",
    "    \n",
    "    queue= deque()\n",
    "    queue.append((y,x))\n",
    "    \n",
    "    while queue:\n",
    "        y,x = queue.popleft()\n",
    "        for i in range(4):\n",
    "            nx = x+dx[i]\n",
    "            ny = y+dy[i]\n",
    "\n",
    "            if nx < 0 or nx >= N or ny < 0 or ny >= N:\n",
    "                continue\n",
    "            if tmp_graph[ny][nx]==0:\n",
    "                continue\n",
    "\n",
    "            if tmp_graph[ny][nx]>=1:\n",
    "                tmp_graph[ny][nx] = 0\n",
    "                queue.append((ny,nx))\n",
    "\n",
    "\n",
    "T = int(input()) # testcase\n",
    "\n",
    "for k in range(T) :\n",
    "    \n",
    "    N = int(input())\n",
    "    \n",
    "    if N <= 1 :\n",
    "        break\n",
    "    else :\n",
    "        graph = []\n",
    "    \n",
    "        for _ in range(N):\n",
    "            graph.append(list(map(int,input().split())))\n",
    "\n",
    "        while 1 :\n",
    "            \n",
    "            tmp_graph = copy.deepcopy(graph)\n",
    "            \n",
    "            tmp = []\n",
    "            for i in graph :\n",
    "                tmp.append(i.count(0))\n",
    "            \n",
    "            if sum(tmp) == N*N :\n",
    "                break\n",
    "            \n",
    "            else :\n",
    "            \n",
    "                cnt = 0\n",
    "                for i in range(N):\n",
    "                    for j in range(N):\n",
    "                        if tmp_graph[i][j] >= 1:\n",
    "                            cnt += 1\n",
    "                            bfs(i,j)\n",
    "                            \n",
    "                count_island.append(cnt)\n",
    "                \n",
    "            for i in range(N) :\n",
    "                for j in range(N) :\n",
    "                    if graph[i][j] >= 1 :\n",
    "                        graph[i][j] -= 1\n",
    "                                \n",
    "        print(f'#{k+1} {max(count_island)}')\n",
    "        "
   ]
  },
  {
   "cell_type": "code",
   "execution_count": null,
   "metadata": {
    "pycharm": {
     "name": "#%%\n"
    }
   },
   "outputs": [],
   "source": []
  },
  {
   "cell_type": "code",
   "execution_count": null,
   "metadata": {
    "pycharm": {
     "name": "#%%\n"
    }
   },
   "outputs": [],
   "source": []
  }
 ],
 "metadata": {
  "kernelspec": {
   "display_name": "Python 3.8.9 64-bit",
   "language": "python",
   "name": "python3"
  },
  "language_info": {
   "codemirror_mode": {
    "name": "ipython",
    "version": 3
   },
   "file_extension": ".py",
   "mimetype": "text/x-python",
   "name": "python",
   "nbconvert_exporter": "python",
   "pygments_lexer": "ipython3",
   "version": "3.8.9"
  },
  "orig_nbformat": 4,
  "vscode": {
   "interpreter": {
    "hash": "31f2aee4e71d21fbe5cf8b01ff0e069b9275f58929596ceb00d14d90e3e16cd6"
   }
  }
 },
 "nbformat": 4,
 "nbformat_minor": 2
}