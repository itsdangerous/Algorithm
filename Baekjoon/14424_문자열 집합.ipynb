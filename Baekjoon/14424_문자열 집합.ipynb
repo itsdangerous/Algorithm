{
 "cells": [
  {
   "cell_type": "code",
   "execution_count": 1,
   "metadata": {
    "pycharm": {
     "name": "#%%\n"
    }
   },
   "outputs": [
    {
     "name": "stdout",
     "output_type": "stream",
     "text": [
      "1 0 0 1 1 0 0 1 "
     ]
    }
   ],
   "source": [
    "n, m = map(int, input().split())\n",
    "\n",
    "S = []\n",
    "for i in range(n) :\n",
    "    S.append(input())\n",
    "S = set(S)\n",
    "\n",
    "string = []\n",
    "for i in range(m) :\n",
    "    string.append(input())\n",
    "    \n",
    "result = 0\n",
    "for i in string :\n",
    "    if i in S :\n",
    "        result += 1\n",
    "print(result)\n",
    "    \n",
    "    "
   ]
  },
  {
   "cell_type": "code",
   "execution_count": null,
   "metadata": {
    "pycharm": {
     "name": "#%%\n"
    }
   },
   "outputs": [],
   "source": []
  }
 ],
 "metadata": {
  "kernelspec": {
   "display_name": "Python 3.8.9 64-bit",
   "language": "python",
   "name": "python3"
  },
  "language_info": {
   "codemirror_mode": {
    "name": "ipython",
    "version": 3
   },
   "file_extension": ".py",
   "mimetype": "text/x-python",
   "name": "python",
   "nbconvert_exporter": "python",
   "pygments_lexer": "ipython3",
   "version": "3.8.9"
  },
  "orig_nbformat": 4,
  "vscode": {
   "interpreter": {
    "hash": "31f2aee4e71d21fbe5cf8b01ff0e069b9275f58929596ceb00d14d90e3e16cd6"
   }
  }
 },
 "nbformat": 4,
 "nbformat_minor": 2
}