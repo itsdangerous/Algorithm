{
 "cells": [
  {
   "cell_type": "markdown",
   "source": [
    "[문제바로가기(10828_스택)](https://www.acmicpc.net/problem/10828)"
   ],
   "metadata": {
    "collapsed": false,
    "pycharm": {
     "name": "#%% md\n"
    }
   }
  },
  {
   "cell_type": "markdown",
   "source": [],
   "metadata": {
    "collapsed": false,
    "pycharm": {
     "name": "#%% md\n"
    }
   }
  },
  {
   "cell_type": "code",
   "execution_count": 35,
   "outputs": [
    {
     "name": "stdout",
     "output_type": "stream",
     "text": [
      "-1\n",
      "-1\n",
      "123\n",
      "123\n",
      "-1\n",
      "-1\n"
     ]
    }
   ],
   "source": [
    "import sys\n",
    "\n",
    "arr = []\n",
    "\n",
    "n = int(input())\n",
    "\n",
    "for i in range(n) :\n",
    "    s = input()\n",
    "    if s.split()[0] == 'push' :\n",
    "        arr.append(s.split()[1])\n",
    "    elif s == 'pop' :\n",
    "        if arr :\n",
    "            print(arr.pop())\n",
    "        else :\n",
    "            print(-1)\n",
    "    elif s == 'size' :\n",
    "        print(len(arr))\n",
    "    elif s == 'empty' :\n",
    "        if arr :\n",
    "            print(0)\n",
    "        else :\n",
    "            print(1)\n",
    "    else :\n",
    "        if not arr :\n",
    "            print(-1)\n",
    "        else :\n",
    "            print(arr[-1])"
   ],
   "metadata": {
    "collapsed": false,
    "pycharm": {
     "name": "#%%\n"
    }
   }
  },
  {
   "cell_type": "code",
   "execution_count": null,
   "outputs": [],
   "source": [],
   "metadata": {
    "collapsed": false,
    "pycharm": {
     "name": "#%%\n"
    }
   }
  }
 ],
 "metadata": {
  "kernelspec": {
   "display_name": "Python 3.9.12 ('base')",
   "language": "python",
   "name": "python3"
  },
  "language_info": {
   "codemirror_mode": {
    "name": "ipython",
    "version": 3
   },
   "file_extension": ".py",
   "mimetype": "text/x-python",
   "name": "python",
   "nbconvert_exporter": "python",
   "pygments_lexer": "ipython3",
   "version": "3.9.12"
  },
  "orig_nbformat": 4,
  "vscode": {
   "interpreter": {
    "hash": "264f328787b37f16064491fd7146204bcd0255a73efd7eb6872c13ff28cded60"
   }
  }
 },
 "nbformat": 4,
 "nbformat_minor": 2
}