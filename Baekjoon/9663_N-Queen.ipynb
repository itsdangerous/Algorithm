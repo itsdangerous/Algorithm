{
 "cells": [
  {
   "cell_type": "markdown",
   "source": [
    "[문제바로가기(9663_N-Queen)](https://www.acmicpc.net/problem/9663)"
   ],
   "metadata": {
    "collapsed": false,
    "pycharm": {
     "name": "#%% md\n"
    }
   }
  },
  {
   "cell_type": "markdown",
   "source": [
    "Idea : 모든 행성에 대해서 루프를 돌며 두 점과의 거리를 이용해 그 점이 해당 행성 안에 있는지 판별하여\n",
    "점이 몇 개의 행성 안에 포함 되는지 result에 저장.\n",
    "\n",
    "만약, 서로 공유하고 있는 행성(같은 은하)이 있다면 그 개수의 2배만큼 빼줌."
   ],
   "metadata": {
    "collapsed": false,
    "pycharm": {
     "name": "#%% md\n"
    }
   }
  },
  {
   "cell_type": "code",
   "execution_count": 59,
   "outputs": [
    {
     "ename": "ValueError",
     "evalue": "not enough values to unpack (expected 3, got 1)",
     "output_type": "error",
     "traceback": [
      "\u001B[0;31m---------------------------------------------------------------------------\u001B[0m",
      "\u001B[0;31mValueError\u001B[0m                                Traceback (most recent call last)",
      "Input \u001B[0;32mIn [59]\u001B[0m, in \u001B[0;36m<cell line: 8>\u001B[0;34m()\u001B[0m\n\u001B[1;32m     11\u001B[0m n \u001B[38;5;241m=\u001B[39m \u001B[38;5;28mint\u001B[39m(\u001B[38;5;28minput\u001B[39m())\n\u001B[1;32m     12\u001B[0m \u001B[38;5;28;01mfor\u001B[39;00m i \u001B[38;5;129;01min\u001B[39;00m \u001B[38;5;28mrange\u001B[39m(n) :\n\u001B[0;32m---> 13\u001B[0m     c_x, c_y, r \u001B[38;5;241m=\u001B[39m \u001B[38;5;28mmap\u001B[39m(\u001B[38;5;28mint\u001B[39m, \u001B[38;5;28minput\u001B[39m()\u001B[38;5;241m.\u001B[39msplit())\n\u001B[1;32m     14\u001B[0m     C\u001B[38;5;241m.\u001B[39mappend([c_x, c_y, r])\n\u001B[1;32m     16\u001B[0m p1 \u001B[38;5;241m=\u001B[39m [x1, y1]\n",
      "\u001B[0;31mValueError\u001B[0m: not enough values to unpack (expected 3, got 1)"
     ]
    }
   ],
   "source": [
    "def  distance_point_to_circle(p, c) :\n",
    "\n",
    "    return ((p[0]-c[0])*(p[0]-c[0]) + (p[1] - c[1])*(p[1] - c[1]))\n",
    "\n",
    "T = int(input())\n",
    "\n",
    "for i in range(T) :\n",
    "    x1, y1, x2, y2 = map(int, input().split())\n",
    "    C = []\n",
    "    n = int(input())\n",
    "    for i in range(n) :\n",
    "        c_x, c_y, r = map(int, input().split())\n",
    "        C.append([c_x, c_y, r])\n",
    "\n",
    "    p1 = [x1, y1]\n",
    "    p2 = [x2, y2]\n",
    "\n",
    "    result = 0\n",
    "    area1 = []\n",
    "    area2 = []\n",
    "\n",
    "    for i in C :\n",
    "        c, r = [i[0], i[1]], i[2]\n",
    "        if distance_point_to_circle(p1, c) < r*r  : # 점이 원 안에 있을 경우\n",
    "            result += 1\n",
    "            area1.append((c[0],c[1], r))\n",
    "\n",
    "        if distance_point_to_circle(p2, c) < r*r : # 점이 원 안에 있을 경우\n",
    "            result += 1\n",
    "            area2.append((c[0],c[1], r))\n",
    "\n",
    "    print(result - 2*len(set(area1) & set(area2)))"
   ],
   "metadata": {
    "collapsed": false,
    "pycharm": {
     "name": "#%%\n"
    }
   }
  }
 ],
 "metadata": {
  "kernelspec": {
   "display_name": "Python 3.9.12 ('base')",
   "language": "python",
   "name": "python3"
  },
  "language_info": {
   "codemirror_mode": {
    "name": "ipython",
    "version": 3
   },
   "file_extension": ".py",
   "mimetype": "text/x-python",
   "name": "python",
   "nbconvert_exporter": "python",
   "pygments_lexer": "ipython3",
   "version": "3.9.12"
  },
  "orig_nbformat": 4,
  "vscode": {
   "interpreter": {
    "hash": "264f328787b37f16064491fd7146204bcd0255a73efd7eb6872c13ff28cded60"
   }
  }
 },
 "nbformat": 4,
 "nbformat_minor": 2
}