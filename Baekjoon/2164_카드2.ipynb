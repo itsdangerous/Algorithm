{
 "cells": [
  {
   "cell_type": "code",
   "execution_count": 45,
   "outputs": [
    {
     "name": "stdout",
     "output_type": "stream",
     "text": [
      "deque([3, 4, 5, 6, 7, 8, 9, 10, 2])\n",
      "deque([5, 6, 7, 8, 9, 10, 2, 4])\n",
      "deque([7, 8, 9, 10, 2, 4, 6])\n",
      "deque([9, 10, 2, 4, 6, 8])\n",
      "deque([2, 4, 6, 8, 10])\n",
      "deque([6, 8, 10, 4])\n",
      "deque([10, 4, 8])\n",
      "deque([8, 4])\n",
      "4\n"
     ]
    }
   ],
   "source": [
    "from collections import deque\n",
    "\n",
    "N = int(input())\n",
    "\n",
    "arr = deque([i for i in range(1, N+1)])\n",
    "n = N\n",
    "\n",
    "while 1 :\n",
    "\n",
    "    if n > 2 :\n",
    "        arr.popleft()\n",
    "        arr.append(arr.popleft())\n",
    "        n-=1\n",
    "    elif n == 2 :\n",
    "        print(arr[1])\n",
    "        break\n",
    "    else : # n == 1\n",
    "        print(arr[0])\n",
    "        break"
   ],
   "metadata": {
    "collapsed": false
   }
  },
  {
   "cell_type": "code",
   "execution_count": 42,
   "outputs": [
    {
     "data": {
      "text/plain": "2"
     },
     "execution_count": 42,
     "metadata": {},
     "output_type": "execute_result"
    }
   ],
   "source": [
    "n"
   ],
   "metadata": {
    "collapsed": false
   }
  },
  {
   "cell_type": "code",
   "execution_count": 43,
   "outputs": [
    {
     "data": {
      "text/plain": "deque([66, 8258])"
     },
     "execution_count": 43,
     "metadata": {},
     "output_type": "execute_result"
    }
   ],
   "source": [
    "arr"
   ],
   "metadata": {
    "collapsed": false
   }
  },
  {
   "cell_type": "code",
   "execution_count": null,
   "outputs": [],
   "source": [],
   "metadata": {
    "collapsed": false
   }
  }
 ],
 "metadata": {
  "kernelspec": {
   "display_name": "Python 3",
   "language": "python",
   "name": "python3"
  },
  "language_info": {
   "codemirror_mode": {
    "name": "ipython",
    "version": 2
   },
   "file_extension": ".py",
   "mimetype": "text/x-python",
   "name": "python",
   "nbconvert_exporter": "python",
   "pygments_lexer": "ipython2",
   "version": "2.7.6"
  }
 },
 "nbformat": 4,
 "nbformat_minor": 0
}
