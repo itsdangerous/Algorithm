{
 "cells": [
  {
   "cell_type": "markdown",
   "id": "4d49a472",
   "metadata": {
    "pycharm": {
     "name": "#%% md\n"
    }
   },
   "source": [
    "[문제 바로가기(팰린드롬 만들기)](https://www.acmicpc.net/problem/1213)"
   ]
  },
  {
   "cell_type": "markdown",
   "id": "b8b67440",
   "metadata": {
    "pycharm": {
     "name": "#%% md\n"
    }
   },
   "source": [
    "### 풀이 설명"
   ]
  },
  {
   "cell_type": "code",
   "execution_count": 42,
   "metadata": {
    "pycharm": {
     "name": "#%%\n"
    }
   },
   "outputs": [],
   "source": [
    "input_str = sorted(input())\n",
    "\n",
    "odd_even = len(input_str) % 2\n",
    "\n",
    "alpha = sorted(list(set(input_str)))\n",
    "\n",
    "dic = {}\n",
    "\n",
    "result = ''\n",
    "is_odd = 0\n",
    "for i in alpha :\n",
    "    dic[i] = input_str.count(i)\n",
    "    if dic[i] % 2 == 1 :\n",
    "        is_odd += 1\n",
    "        if is_odd > 1 :\n",
    "            result = \"I\\'m Sorry Hansoo\"\n",
    "        \n",
    "if is_odd == 1 and len(input_str) % 2 == 0 :\n",
    "    result = \"I\\'m Sorry Hansoo\"\n",
    "    \n"
   ]
  },
  {
   "cell_type": "code",
   "execution_count": 44,
   "metadata": {
    "pycharm": {
     "name": "#%%\n"
    }
   },
   "outputs": [
    {
     "data": {
      "text/plain": [
       "{'a': 1,\n",
       " 'b': 1,\n",
       " 'c': 2,\n",
       " 'd': 2,\n",
       " 'e': 3,\n",
       " 'f': 2,\n",
       " 'i': 2,\n",
       " 'j': 1,\n",
       " 'l': 1,\n",
       " 'm': 1,\n",
       " 'n': 2,\n",
       " 'o': 1,\n",
       " 'r': 1,\n",
       " 'w': 1,\n",
       " 'z': 2}"
      ]
     },
     "execution_count": 44,
     "metadata": {},
     "output_type": "execute_result"
    }
   ],
   "source": [
    "for i in dic :\n",
    "    if dic[i] % 2 == 0 :\n",
    "        "
   ]
  },
  {
   "cell_type": "code",
   "execution_count": null,
   "metadata": {
    "pycharm": {
     "name": "#%%\n"
    }
   },
   "outputs": [],
   "source": []
  }
 ],
 "metadata": {
  "kernelspec": {
   "display_name": "Python 3.9.12 ('base')",
   "language": "python",
   "name": "python3"
  },
  "language_info": {
   "codemirror_mode": {
    "name": "ipython",
    "version": 3
   },
   "file_extension": ".py",
   "mimetype": "text/x-python",
   "name": "python",
   "nbconvert_exporter": "python",
   "pygments_lexer": "ipython3",
   "version": "3.9.12"
  },
  "orig_nbformat": 4,
  "vscode": {
   "interpreter": {
    "hash": "264f328787b37f16064491fd7146204bcd0255a73efd7eb6872c13ff28cded60"
   }
  }
 },
 "nbformat": 4,
 "nbformat_minor": 2
}