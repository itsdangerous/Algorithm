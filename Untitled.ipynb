{
 "cells": [
  {
   "cell_type": "markdown",
   "source": [],
   "metadata": {
    "collapsed": false,
    "pycharm": {
     "name": "#%% md\n"
    }
   }
  },
  {
   "cell_type": "code",
   "execution_count": 74,
   "outputs": [
    {
     "name": "stdout",
     "output_type": "stream",
     "text": [
      "factor\n",
      "multiple\n",
      "neither\n"
     ]
    }
   ],
   "source": [
    "def solution(n) :\n",
    "    answer = 0\n",
    "    while n > 10 :\n",
    "        answer += n%10\n",
    "        n = n//10\n",
    "    answer += n\n",
    "    return answer"
   ],
   "metadata": {
    "collapsed": false,
    "pycharm": {
     "name": "#%%\n"
    }
   }
  },
  {
   "cell_type": "code",
   "execution_count": 21,
   "outputs": [],
   "source": [
    "arr = [1,1,3,3,0,1,1]"
   ],
   "metadata": {
    "collapsed": false,
    "pycharm": {
     "name": "#%%\n"
    }
   }
  },
  {
   "cell_type": "code",
   "execution_count": 35,
   "outputs": [
    {
     "data": {
      "text/plain": "[1, 3, 0, 1]"
     },
     "execution_count": 35,
     "metadata": {},
     "output_type": "execute_result"
    }
   ],
   "source": [
    "def solution(arr) :\n",
    "    result = []\n",
    "    answer = []\n",
    "    for idx, value in enumerate(arr) :\n",
    "        if idx < len(arr)-1 :\n",
    "            if arr[idx] != arr[idx+1] :\n",
    "                result.append(idx)\n",
    "    if len(arr) > 1 :\n",
    "        result.append(len(arr)-1)\n",
    "\n",
    "    for i in result :\n",
    "        answer.append(arr[i])\n",
    "    return answer\n"
   ],
   "metadata": {
    "collapsed": false,
    "pycharm": {
     "name": "#%%\n"
    }
   }
  },
  {
   "cell_type": "code",
   "execution_count": 46,
   "outputs": [],
   "source": [
    "score = [1,2,3,1,2,3,1]\n",
    "\n",
    "solution(3, 4, score)\n",
    "\n",
    "def solution(k, m, score):\n",
    "\n",
    "    if len(score) < m :\n",
    "        return 0\n",
    "    else :\n",
    "        answer = 0\n",
    "        for idx, value in enumerate(sorted(score, reverse=True)) :\n",
    "            if (idx+1) % m == 0 :\n",
    "                answer += value*m\n",
    "    return answer"
   ],
   "metadata": {
    "collapsed": false,
    "pycharm": {
     "name": "#%%\n"
    }
   }
  },
  {
   "cell_type": "code",
   "execution_count": 80,
   "outputs": [
    {
     "data": {
      "text/plain": "10"
     },
     "execution_count": 80,
     "metadata": {},
     "output_type": "execute_result"
    }
   ],
   "source": [
    "def check(arr1, arr2, result) :\n",
    "\n",
    "    t = sorted(arr1)\n",
    "\n",
    "    for i in range(t[0],1,-1) :\n",
    "        flag = 0\n",
    "        for j in t :\n",
    "            if j % i != 0 :\n",
    "                flag = 1\n",
    "                break\n",
    "        if flag == 0 :\n",
    "            tmp = 0\n",
    "            if i >= result :\n",
    "\n",
    "                for j in arr2 :\n",
    "                    if j % i == 0 :\n",
    "                        tmp = 1\n",
    "                        break\n",
    "                    if tmp == 0 :\n",
    "                        result = i\n",
    "    return result\n",
    "\n",
    "def solution(arrayA, arrayB, result=0) :\n",
    "\n",
    "    a = check(arrayA, arrayB, result)\n",
    "\n",
    "    b = check(arrayB, arrayA, result)\n",
    "\n",
    "    return max(a,b)\n"
   ],
   "metadata": {
    "collapsed": false,
    "pycharm": {
     "name": "#%%\n"
    }
   }
  },
  {
   "cell_type": "code",
   "execution_count": 7,
   "outputs": [
    {
     "ename": "ValueError",
     "evalue": "invalid literal for int() with base 10: ''",
     "output_type": "error",
     "traceback": [
      "\u001B[0;31m---------------------------------------------------------------------------\u001B[0m",
      "\u001B[0;31mValueError\u001B[0m                                Traceback (most recent call last)",
      "Input \u001B[0;32mIn [7]\u001B[0m, in \u001B[0;36m<cell line: 3>\u001B[0;34m()\u001B[0m\n\u001B[1;32m      1\u001B[0m \u001B[38;5;28;01mimport\u001B[39;00m \u001B[38;5;21;01msys\u001B[39;00m\n\u001B[0;32m----> 3\u001B[0m s \u001B[38;5;241m=\u001B[39m \u001B[38;5;28;43mint\u001B[39;49m\u001B[43m(\u001B[49m\u001B[43msys\u001B[49m\u001B[38;5;241;43m.\u001B[39;49m\u001B[43mstdin\u001B[49m\u001B[38;5;241;43m.\u001B[39;49m\u001B[43mreadline\u001B[49m\u001B[43m(\u001B[49m\u001B[43m)\u001B[49m\u001B[43m)\u001B[49m\n",
      "\u001B[0;31mValueError\u001B[0m: invalid literal for int() with base 10: ''"
     ]
    }
   ],
   "source": [
    "import sys\n",
    "\n",
    "s = int(sys.stdin.readline())"
   ],
   "metadata": {
    "collapsed": false,
    "pycharm": {
     "name": "#%%\n"
    }
   }
  },
  {
   "cell_type": "code",
   "execution_count": null,
   "outputs": [],
   "source": [],
   "metadata": {
    "collapsed": false,
    "pycharm": {
     "name": "#%%\n"
    }
   }
  }
 ],
 "metadata": {
  "kernelspec": {
   "display_name": "Python 3 (ipykernel)",
   "language": "python",
   "name": "python3"
  },
  "language_info": {
   "codemirror_mode": {
    "name": "ipython",
    "version": 3
   },
   "file_extension": ".py",
   "mimetype": "text/x-python",
   "name": "python",
   "nbconvert_exporter": "python",
   "pygments_lexer": "ipython3",
   "version": "3.10.5"
  }
 },
 "nbformat": 4,
 "nbformat_minor": 5
}