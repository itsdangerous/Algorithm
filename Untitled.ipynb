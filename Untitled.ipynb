{
 "cells": [
  {
   "cell_type": "code",
   "execution_count": 31,
   "id": "0f452196",
   "metadata": {},
   "outputs": [
    {
     "name": "stdout",
     "output_type": "stream",
     "text": [
      "4\n"
     ]
    }
   ],
   "source": [
    "n = int(input())\n",
    "result = [1]*n"
   ]
  },
  {
   "cell_type": "code",
   "execution_count": 9,
   "id": "f70e4fbe",
   "metadata": {},
   "outputs": [
    {
     "name": "stdout",
     "output_type": "stream",
     "text": [
      "0 3 3 4\n",
      "1 2 5 7\n",
      "2 3 3 4\n"
     ]
    }
   ],
   "source": [
    "arr = []\n",
    "for i in range(n-1) :\n",
    "    arr.append(list(map(int, input().split(' '))))"
   ]
  },
  {
   "cell_type": "code",
   "execution_count": 34,
   "id": "441d6b1f",
   "metadata": {},
   "outputs": [],
   "source": [
    "for i in arr :\n",
    "    result[i[0]]= i[2]/i[3]*result[i[1]] "
   ]
  },
  {
   "cell_type": "code",
   "execution_count": 47,
   "id": "e3b79126",
   "metadata": {},
   "outputs": [
    {
     "name": "stdout",
     "output_type": "stream",
     "text": [
      "21.0\n",
      "20.0\n",
      "21.0\n",
      "28\n"
     ]
    }
   ],
   "source": [
    "for i in result :\n",
    "    print(i*28)"
   ]
  },
  {
   "cell_type": "code",
   "execution_count": 45,
   "id": "9693e649",
   "metadata": {},
   "outputs": [
    {
     "data": {
      "text/plain": [
       "[0.75, 0.7142857142857143, 0.75, 1]"
      ]
     },
     "execution_count": 45,
     "metadata": {},
     "output_type": "execute_result"
    }
   ],
   "source": [
    "result"
   ]
  },
  {
   "cell_type": "code",
   "execution_count": null,
   "id": "025a9f16",
   "metadata": {},
   "outputs": [],
   "source": []
  }
 ],
 "metadata": {
  "kernelspec": {
   "display_name": "Python 3 (ipykernel)",
   "language": "python",
   "name": "python3"
  },
  "language_info": {
   "codemirror_mode": {
    "name": "ipython",
    "version": 3
   },
   "file_extension": ".py",
   "mimetype": "text/x-python",
   "name": "python",
   "nbconvert_exporter": "python",
   "pygments_lexer": "ipython3",
   "version": "3.10.5"
  }
 },
 "nbformat": 4,
 "nbformat_minor": 5
}
